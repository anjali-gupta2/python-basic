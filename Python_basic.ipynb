{
  "nbformat": 4,
  "nbformat_minor": 0,
  "metadata": {
    "colab": {
      "provenance": []
    },
    "kernelspec": {
      "name": "python3",
      "display_name": "Python 3"
    },
    "language_info": {
      "name": "python"
    }
  },
  "cells": [
    {
      "cell_type": "markdown",
      "source": [
        "#Python Basics\n"
      ],
      "metadata": {
        "id": "PIyfsW6oXH-i"
      }
    },
    {
      "cell_type": "markdown",
      "source": [
        "#Theory Questions\n"
      ],
      "metadata": {
        "id": "AEk30pSrXS5-"
      }
    },
    {
      "cell_type": "markdown",
      "source": [
        "1. What is Python, and why is it popular\n",
        "-> Python is a high-level , interpreted programming language known for its readability and versatility. it is popular due to its simple syntax , vast libaries and frameworks , and its wide applicability in various fields like web development , data science , machine learning , and automation.\n",
        "\n",
        "2. What is an interpreter in Python\n",
        "-> In Python, an interpreter is a program that executes Python code directly, line by line, rather than compiling the entire code into machine code at once. It reads, analyzes, and then runs each instruction, allowing for immediate feedback and interactive development. This process differs from compilers, which translate the entire code upfront.\n",
        "\n",
        "3. What are pre-defined keywords in Python\n",
        "-> Predefined keywords in Python are reserved words that hold special meaning and functionality within the language. These keywords are integral to the syntax and structure of Python programs and cannot be used as identifiers    \n",
        "(e.g., variable names, function names, class names).\n",
        "Here are some examples of Python keywords and their general purpose:\n",
        "False, None, True: Represent boolean values and the absence of a value.\n",
        "and, or, not: Used for logical operations.\n",
        "if, elif, else: Control flow for conditional execution.\n",
        "etc\n",
        "\n",
        "4. Can keywords be used as variable name\n",
        "-> No, keywords cannot be used as variable names in Python. Keywords are reserved words that have special meanings and functionalities within the Python language, and using them as identifiers (like variable names, function names, or class names) would lead to a SyntaxError.\n",
        "For example, if, else, for, while, def, class, True, False, and None are all keywords in Python and cannot be used as variable names.\n",
        "\n",
        "5. What is mutability in Python\n",
        "-> In Python, mutability refers to whether an object's state or content can be changed after it has been created.\n",
        "Mutable Objects: These are objects whose values or contents can be modified in place after they are initialized. When you modify a mutable object, you are not creating a new object; you are changing the existing one. Examples of mutable data types in Python include:\n",
        "Lists: Elements can be added, removed, or changed.\n",
        "Dictionaries: Key-value pairs can be added, removed, or updated.\n",
        "Sets: Elements can be added or removed.\n",
        "\n",
        "6.  Why are lists mutable, but tuples are immutable\n",
        "-> Tuples and lists are the same in every way except two: tuples use parentheses instead of square brackets, and the items in tuples cannot be modified (but the items in lists can be modified). We often call lists mutable (meaning they can be changed) and tuples immutable (meaning they cannot be changed).\n",
        "\n",
        "7.  What is the difference between “==” and “is” operators in Python\n",
        "-> In Python, the == and is operators are both used for comparison, but they serve different purposes:\n",
        "== checks for value equality (Do they have the same content?).\n",
        "is checks for object identity (Are they the same object in memory?).\n",
        "\n",
        "8.  What are logical operators in Python\n",
        "-> Logical operators in Python are used to combine conditional statements and evaluate expressions based on their truth values (True or False). They are also known as Boolean operators because they work with Boolean operands and return a Boolean result.\n",
        "\n",
        "9.  What is type casting in Python\n",
        "-> Type casting in Python, also known as explicit type conversion, is the process of manually converting a value from one data type to another using built-in functions. This is done when the programmer needs a specific data type for a variable to perform an operation or ensure compatibility.\n",
        "Common type casting functions in Python include:\n",
        "int():\n",
        "Converts a value to an integer. It can take a float (truncating decimals) or a string representing a whole number.\n",
        "float():\n",
        "Converts a value to a floating-point number. It can take an integer or a string representing a number.\n",
        "str():\n",
        "Converts a value to a string. It can take integers, floats, or other data types.\n",
        "bool():\n",
        "Converts a value to a boolean (True or False). Various values can be converted, with 0, 0.0, empty strings, empty lists, and None typically evaluating to False, and other values to True.\n",
        "\n",
        "10.  What is the difference between implicit and explicit type casting\n",
        "-> Implicit and explicit type casting (also known as type conversion) differ in how they handle the conversion of data types. Implicit casting, also called automatic type conversion, is done automatically by the compiler when different data types are mixed in an expression. Explicit casting, or type casting, is performed manually by the programmer by explicitly specifying the desired data type.\n",
        "\n",
        "11.  What is the purpose of conditional statements in Python\n",
        "-> Conditional statements in Python serve the purpose of controlling the flow of a program based on specific conditions. They enable decision-making within the code, allowing different blocks of code to be executed only when certain criteria are met.\n",
        "The primary purposes include:\n",
        "Decision Making:\n",
        "Conditional statements, such as if, elif, and else, allow a program to make choices. For example, a program can check if a user's input meets a certain requirement and then proceed accordingly.\n",
        "Controlling Program Flow:\n",
        "Handling Different Scenarios:\n",
        "Validation and Error Handling:\n",
        "\n",
        "12.  How does the elif statement work\n",
        "-> The “elif” keyword in Python, stands for “else if”. It can be used in conditional statements to check for multiple conditions. For example, if the first condition is false, it moves on to the next “elif” statement to check if that condition is true.\n",
        "\n",
        "13. What is the difference between for and while loops\n",
        "-> The main difference between for and while loops lies in their intended use cases: for loops are typically used when you know the number of iterations beforehand, while while loops are used when the number of iterations is determined by a condition.\n",
        "\n",
        "14.  Describe a scenario where a while loop is more suitable than a for loop.\n",
        "-> In programming, for loops are best used when you know the number of iterations ahead of time, whereas a while loop is best used when you don't know the number of iterations in advance. Both methods can help you iterate through your code.\n"
      ],
      "metadata": {
        "id": "ib9X_8pYXqex"
      }
    },
    {
      "cell_type": "markdown",
      "source": [
        "# Practical Questions\n",
        "\n"
      ],
      "metadata": {
        "id": "skQTiX0NgnPo"
      }
    },
    {
      "cell_type": "markdown",
      "source": [
        "1. Write a Python program to print \"Hello, World!'' .\n"
      ],
      "metadata": {
        "id": "_IIb3fL_ioT0"
      }
    },
    {
      "cell_type": "code",
      "source": [
        " print(\"Hello, World!\")"
      ],
      "metadata": {
        "colab": {
          "base_uri": "https://localhost:8080/"
        },
        "id": "qsg68qS3XRJc",
        "outputId": "ee3739f5-b57f-4f87-fb79-e117ad7acaa6"
      },
      "execution_count": 3,
      "outputs": [
        {
          "output_type": "stream",
          "name": "stdout",
          "text": [
            "Hello, World!\n"
          ]
        }
      ]
    },
    {
      "cell_type": "markdown",
      "source": [
        "\n",
        "\n",
        "2.  Write a Python program that displays your name and age\n"
      ],
      "metadata": {
        "id": "XK0kXkKujVY8"
      }
    },
    {
      "cell_type": "code",
      "source": [
        "name = \"anjali\"\n",
        "age = 22\n",
        "\n",
        "print(f\"My name is {name} and I am {age} years old.\")"
      ],
      "metadata": {
        "colab": {
          "base_uri": "https://localhost:8080/"
        },
        "id": "GdxPRQlsimKq",
        "outputId": "11abaea4-6f8a-4777-da72-cf763177d542"
      },
      "execution_count": 12,
      "outputs": [
        {
          "output_type": "stream",
          "name": "stdout",
          "text": [
            "My name is anjali and I am 22 years old.\n"
          ]
        }
      ]
    },
    {
      "cell_type": "markdown",
      "source": [
        "3. Write code to print all the pre-defined keywords in Python using the keyword library"
      ],
      "metadata": {
        "id": "VF913OB3v1aI"
      }
    },
    {
      "cell_type": "code",
      "source": [
        "import keyword\n",
        "\n",
        "print(\"List of Python Keywords:\")\n",
        "print(keyword.kwlist)"
      ],
      "metadata": {
        "colab": {
          "base_uri": "https://localhost:8080/"
        },
        "id": "jEwrG4OOimVi",
        "outputId": "f5039faf-3a40-4028-fee0-41787b8963e0"
      },
      "execution_count": 17,
      "outputs": [
        {
          "output_type": "stream",
          "name": "stdout",
          "text": [
            "List of Python Keywords:\n",
            "['False', 'None', 'True', 'and', 'as', 'assert', 'async', 'await', 'break', 'class', 'continue', 'def', 'del', 'elif', 'else', 'except', 'finally', 'for', 'from', 'global', 'if', 'import', 'in', 'is', 'lambda', 'nonlocal', 'not', 'or', 'pass', 'raise', 'return', 'try', 'while', 'with', 'yield']\n"
          ]
        }
      ]
    },
    {
      "cell_type": "markdown",
      "source": [
        "4. Write a program that checks if a given word is a Python keyword."
      ],
      "metadata": {
        "id": "A0Of4fM1w3xS"
      }
    },
    {
      "cell_type": "code",
      "source": [
        "import keyword\n",
        "\n",
        "def check_if_python_keyword(word):\n",
        "    \"\"\"\n",
        "    Checks if a given word is a Python keyword.\n",
        "\n",
        "    Args:\n",
        "        word (str): The word to check.\n",
        "\n",
        "    Returns:\n",
        "        bool: True if the word is a Python keyword, False otherwise.\n",
        "    \"\"\"\n",
        "    return keyword.iskeyword(word)\n",
        "\n",
        "word_to_check_1 = \"for\"\n",
        "word_to_check_2 = \"my_variable\"\n",
        "word_to_check_3 = \"True\"\n",
        "\n",
        "print(f\"'{word_to_check_1}' is a Python keyword: {check_if_python_keyword(word_to_check_1)}\")\n",
        "print(f\"'{word_to_check_2}' is a Python keyword: {check_if_python_keyword(word_to_check_2)}\")\n",
        "print(f\"'{word_to_check_3}' is a Python keyword: {check_if_python_keyword(word_to_check_3)}\")"
      ],
      "metadata": {
        "colab": {
          "base_uri": "https://localhost:8080/"
        },
        "id": "gi36wjLSimZ4",
        "outputId": "d7e94265-4cc5-4d47-bbd9-188ae5281f90"
      },
      "execution_count": 20,
      "outputs": [
        {
          "output_type": "stream",
          "name": "stdout",
          "text": [
            "'for' is a Python keyword: True\n",
            "'my_variable' is a Python keyword: False\n",
            "'True' is a Python keyword: True\n"
          ]
        }
      ]
    },
    {
      "cell_type": "markdown",
      "source": [
        "5. Create a list and tuple in Python, and demonstrate how attempting to change an element works differently\n",
        "for each."
      ],
      "metadata": {
        "id": "YPctvzvWx26A"
      }
    },
    {
      "cell_type": "code",
      "source": [
        "my_list = [1, 2, 3]\n",
        "my_tuple = (1, 2, 3)\n",
        "\n",
        "# Modifying list\n",
        "my_list[0] = 10\n",
        "print(\"Modified list:\", my_list)\n",
        "\n",
        "# Trying to modify tuple\n",
        "try:\n",
        "    my_tuple[0] = 10\n",
        "except TypeError as e:\n",
        "    print(\"Error:\", e)"
      ],
      "metadata": {
        "colab": {
          "base_uri": "https://localhost:8080/"
        },
        "id": "Jon-XkeeAk54",
        "outputId": "1650a85e-e0ba-4903-8ad1-30ffd7032bd0"
      },
      "execution_count": 5,
      "outputs": [
        {
          "output_type": "stream",
          "name": "stdout",
          "text": [
            "Modified list: [10, 2, 3]\n",
            "Error: 'tuple' object does not support item assignment\n"
          ]
        }
      ]
    },
    {
      "cell_type": "markdown",
      "source": [
        "6.  Write a function to demonstrate the behavior of mutable and immutable arguments"
      ],
      "metadata": {
        "id": "CEuKRXLvyg5c"
      }
    },
    {
      "cell_type": "code",
      "source": [
        "def modify_list(lst):\n",
        "    lst.append(4)\n",
        "\n",
        "def modify_string(s):\n",
        "    s += \" world\"\n",
        "\n",
        "my_list = [1, 2, 3]\n",
        "my_string = \"hello\"\n",
        "\n",
        "modify_list(my_list)\n",
        "print(\"Modified list:\", my_list)\n",
        "\n",
        "modify_string(my_string)\n",
        "print(\"String after function call:\", my_string)"
      ],
      "metadata": {
        "colab": {
          "base_uri": "https://localhost:8080/"
        },
        "id": "tWenUppNAZl4",
        "outputId": "0cf21c8c-a8f3-4500-8095-d892c35987c5"
      },
      "execution_count": 4,
      "outputs": [
        {
          "output_type": "stream",
          "name": "stdout",
          "text": [
            "Modified list: [1, 2, 3, 4]\n",
            "String after function call: hello\n"
          ]
        }
      ]
    },
    {
      "cell_type": "markdown",
      "source": [
        "7. Write a program that performs basic arithmetic operations on two user-input numbers"
      ],
      "metadata": {
        "id": "mGTpUODFzX-f"
      }
    },
    {
      "cell_type": "code",
      "source": [
        "def basic_calculator():\n",
        "\n",
        "    try:\n",
        "        num1 = float(input(\"Enter the first number: \"))\n",
        "        num2 = float(input(\"Enter the second number: \"))\n",
        "    except ValueError:\n",
        "        print(\"Invalid input. Please enter numeric values.\")\n",
        "        return\n",
        "\n",
        "    print(\"Select operation:\")\n",
        "    print(\"1. Add\")\n",
        "    print(\"2. Subtract\")\n",
        "    print(\"3. Multiply\")\n",
        "    print(\"4. Divide\")\n",
        "\n",
        "    choice = input(\"Enter choice(1/2/3/4): \")\n",
        "\n",
        "    if choice == '1':\n",
        "        result = num1 + num2\n",
        "        print(f\"{num1} + {num2} = {result}\")\n",
        "    elif choice == '2':\n",
        "        result = num1 - num2\n",
        "        print(f\"{num1} - {num2} = {result}\")\n",
        "    elif choice == '3':\n",
        "        result = num1 * num2\n",
        "        print(f\"{num1} * {num2} = {result}\")\n",
        "    elif choice == '4':\n",
        "        if num2 == 0:\n",
        "            print(\"Cannot divide by zero.\")\n",
        "        else:\n",
        "            result = num1 / num2\n",
        "            print(f\"{num1} / {num2} = {result}\")\n",
        "    else:\n",
        "        print(\"Invalid input. Please select a valid operation.\")\n",
        "\n",
        "basic_calculator()"
      ],
      "metadata": {
        "colab": {
          "base_uri": "https://localhost:8080/"
        },
        "id": "3oUuoWiyw2hN",
        "outputId": "9cc70bb6-d5f3-454f-d8cd-138565ca31a9"
      },
      "execution_count": 8,
      "outputs": [
        {
          "output_type": "stream",
          "name": "stdout",
          "text": [
            "Enter the first number: 1\n",
            "Enter the second number: 2\n",
            "Select operation:\n",
            "1. Add\n",
            "2. Subtract\n",
            "3. Multiply\n",
            "4. Divide\n",
            "Enter choice(1/2/3/4): 3\n",
            "1.0 * 2.0 = 2.0\n"
          ]
        }
      ]
    },
    {
      "cell_type": "markdown",
      "source": [
        "8.. Write a program to demonstrate the use of logical operators"
      ],
      "metadata": {
        "id": "dqo3RkT00jos"
      }
    },
    {
      "cell_type": "code",
      "source": [
        "x = True\n",
        "y = False\n",
        "\n",
        "print(\"x and y:\", x and y)\n",
        "print(\"x or y:\", x or y)\n",
        "print(\"not x:\", not x)"
      ],
      "metadata": {
        "colab": {
          "base_uri": "https://localhost:8080/"
        },
        "id": "uOXYWZnlAHer",
        "outputId": "7ed41df9-485d-4dd9-e9f8-ce3c849b4383"
      },
      "execution_count": 3,
      "outputs": [
        {
          "output_type": "stream",
          "name": "stdout",
          "text": [
            "x and y: False\n",
            "x or y: True\n",
            "not x: False\n"
          ]
        }
      ]
    },
    {
      "cell_type": "markdown",
      "source": [
        "9.  Write a Python program to convert user input from string to integer, float, and boolean types"
      ],
      "metadata": {
        "id": "dKSN_WKQ1Vmo"
      }
    },
    {
      "cell_type": "code",
      "source": [
        "user_input = input(\"Enter a number: \")\n",
        "\n",
        "int_val = int(user_input)\n",
        "float_val = float(user_input)\n",
        "bool_val = bool(int_val)\n",
        "\n",
        "print(\"Integer:\", int_val)\n",
        "print(\"Float:\", float_val)\n",
        "print(\"Boolean:\", bool_val)"
      ],
      "metadata": {
        "colab": {
          "base_uri": "https://localhost:8080/"
        },
        "id": "Hxf3q794_zNX",
        "outputId": "fadca4cf-0478-4688-c849-0abc1dd73194"
      },
      "execution_count": 2,
      "outputs": [
        {
          "output_type": "stream",
          "name": "stdout",
          "text": [
            "Enter a number: 3\n",
            "Integer: 3\n",
            "Float: 3.0\n",
            "Boolean: True\n"
          ]
        }
      ]
    },
    {
      "cell_type": "markdown",
      "source": [
        "10.  Write code to demonstrate type casting with list elements"
      ],
      "metadata": {
        "id": "8CyOEpFCoVEh"
      }
    },
    {
      "cell_type": "code",
      "source": [
        "mixed_list = [\"10\", 20.5, \"30\", 40]\n",
        "\n",
        "int_list = []\n",
        "for item in mixed_list:\n",
        "    int_list.append(int(float(item)))\n",
        "\n",
        "print(f\"Original list: {mixed_list}\")\n",
        "print(f\"List with elements cast to int: {int_list}\")\n",
        "\n",
        "str_list = []\n",
        "for item in mixed_list:\n",
        "    str_list.append(str(item))\n",
        "\n",
        "print(f\"List with elements cast to str: {str_list}\")"
      ],
      "metadata": {
        "colab": {
          "base_uri": "https://localhost:8080/"
        },
        "id": "hefYlKfUoTR4",
        "outputId": "d6c655bb-ba0b-44e7-a2e9-3fecc3274309"
      },
      "execution_count": 2,
      "outputs": [
        {
          "output_type": "stream",
          "name": "stdout",
          "text": [
            "Original list: ['10', 20.5, '30', 40]\n",
            "List with elements cast to int: [10, 20, 30, 40]\n",
            "List with elements cast to str: ['10', '20.5', '30', '40']\n"
          ]
        }
      ]
    },
    {
      "cell_type": "markdown",
      "source": [
        "11. Write a program that checks if a number is positive, negative, or zero."
      ],
      "metadata": {
        "id": "qP1ww6OZo4WL"
      }
    },
    {
      "cell_type": "code",
      "source": [
        "num = float(input(\"Enter a number: \"))\n",
        "if num > 0:\n",
        "    print(\"Positive\")\n",
        "elif num < 0:\n",
        "    print(\"Negative\")\n",
        "else:\n",
        "    print(\"Zero\")"
      ],
      "metadata": {
        "colab": {
          "base_uri": "https://localhost:8080/"
        },
        "id": "3_FRQO3b_Pnh",
        "outputId": "d56799ee-76eb-4508-d5d9-b89e6bfcd6f4"
      },
      "execution_count": 1,
      "outputs": [
        {
          "output_type": "stream",
          "name": "stdout",
          "text": [
            "Enter a number: 2\n",
            "Positive\n"
          ]
        }
      ]
    },
    {
      "cell_type": "markdown",
      "source": [
        "12.  Write a for loop to print numbers from 1 to 10."
      ],
      "metadata": {
        "id": "afzQ2wKG_O8K"
      }
    },
    {
      "cell_type": "code",
      "source": [
        "for i in range(1, 11):\n",
        "    print(i)"
      ],
      "metadata": {
        "colab": {
          "base_uri": "https://localhost:8080/"
        },
        "id": "GB3j6fpuzczP",
        "outputId": "8b229f0e-bc02-4949-e73c-675d47d95210"
      },
      "execution_count": 3,
      "outputs": [
        {
          "output_type": "stream",
          "name": "stdout",
          "text": [
            "1\n",
            "2\n",
            "3\n",
            "4\n",
            "5\n",
            "6\n",
            "7\n",
            "8\n",
            "9\n",
            "10\n"
          ]
        }
      ]
    },
    {
      "cell_type": "markdown",
      "source": [
        "13.  Write a Python program to find the sum of all even numbers between 1 and 50."
      ],
      "metadata": {
        "id": "yTE30eyqp-6s"
      }
    },
    {
      "cell_type": "code",
      "source": [
        "total_sum = 0\n",
        "for number in range(2, 51, 2):\n",
        "    total_sum += number\n",
        "print(f\"The sum of all even numbers between 1 and 50 is: {total_sum}\")"
      ],
      "metadata": {
        "colab": {
          "base_uri": "https://localhost:8080/"
        },
        "id": "XOzOx1dCoTlj",
        "outputId": "ac37544e-bbe5-4f61-a0fe-fb53461b4f6f"
      },
      "execution_count": 5,
      "outputs": [
        {
          "output_type": "stream",
          "name": "stdout",
          "text": [
            "The sum of all even numbers between 1 and 50 is: 650\n"
          ]
        }
      ]
    },
    {
      "cell_type": "markdown",
      "source": [
        "14. . Write a program to reverse a string using a while loop."
      ],
      "metadata": {
        "id": "Wy9FBLGaqSQN"
      }
    },
    {
      "cell_type": "code",
      "source": [
        "string = input(\"Enter a string: \")\n",
        "reversed_string = \"\"\n",
        "i = len(string) - 1\n",
        "\n",
        "while i >= 0:\n",
        "    reversed_string += string[i]\n",
        "    i -= 1\n",
        "\n",
        "print(\"Reversed string:\", reversed_string)"
      ],
      "metadata": {
        "colab": {
          "base_uri": "https://localhost:8080/"
        },
        "id": "LZcWpeoTzIGE",
        "outputId": "6317d3f5-847a-42df-8933-08e6df73e128"
      },
      "execution_count": 2,
      "outputs": [
        {
          "output_type": "stream",
          "name": "stdout",
          "text": [
            "Enter a string: 1\n",
            "Reversed string: 1\n"
          ]
        }
      ]
    },
    {
      "cell_type": "markdown",
      "source": [
        "15.  Write a Python program to calculate the factorial of a number provided by the user using a while loop"
      ],
      "metadata": {
        "id": "S93COb5OqqHN"
      }
    },
    {
      "cell_type": "code",
      "source": [
        "#get input from the user\n",
        "num = int(input(\"Enter a number to calculate its factorial: \"))\n",
        "\n",
        "# Initialize variables\n",
        "factorial = 1\n",
        "i = 1\n",
        "\n",
        "# Calculate factorial using a while loop\n",
        "while i <= num:\n",
        "    factorial *= i\n",
        "    i += 1\n",
        "\n",
        "print(f\"The factorial of {num} is: {factorial}\")"
      ],
      "metadata": {
        "colab": {
          "base_uri": "https://localhost:8080/"
        },
        "id": "NBK1qJuwygB1",
        "outputId": "bcb636b0-5f85-4f41-ecda-6abf81cc63f1"
      },
      "execution_count": 1,
      "outputs": [
        {
          "output_type": "stream",
          "name": "stdout",
          "text": [
            "Enter a number to calculate its factorial: 2\n",
            "The factorial of 2 is: 2\n"
          ]
        }
      ]
    }
  ]
}